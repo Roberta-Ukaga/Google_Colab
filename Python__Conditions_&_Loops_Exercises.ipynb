{
  "cells": [
    {
      "cell_type": "markdown",
      "metadata": {
        "id": "view-in-github",
        "colab_type": "text"
      },
      "source": [
        "<a href=\"https://colab.research.google.com/github/Roberta-Ukaga/Google_Colab_Dump/blob/main/Python__Conditions_%26_Loops_Exercises.ipynb\" target=\"_parent\"><img src=\"https://colab.research.google.com/assets/colab-badge.svg\" alt=\"Open In Colab\"/></a>"
      ]
    },
    {
      "cell_type": "markdown",
      "source": [],
      "metadata": {
        "id": "jYW-Rx4fDTbb"
      }
    },
    {
      "cell_type": "markdown",
      "metadata": {
        "id": "yCI-4iWOsK3Y"
      },
      "source": [
        "# Conditions & Loops Exercises"
      ]
    },
    {
      "cell_type": "code",
      "execution_count": null,
      "metadata": {
        "id": "y1OWkQzssK3c",
        "colab": {
          "base_uri": "https://localhost:8080/"
        },
        "outputId": "2ddb7f51-2e1b-461a-cf41-91059791eae8"
      },
      "outputs": [
        {
          "output_type": "execute_result",
          "data": {
            "text/plain": [
              "60"
            ]
          },
          "metadata": {},
          "execution_count": 1
        }
      ],
      "source": [
        "#Q1 Given two integer numbers.\n",
        "#If any of the numbers are greater than 50 return their product,\n",
        "#else return their sum\n",
        "number1= 20\n",
        "number2= 40\n",
        "if number1 > 50 or number2 > 50:\n",
        "    result = number1 * number2\n",
        "else:\n",
        "    result = number1 + number2\n",
        "\n",
        "result"
      ]
    },
    {
      "cell_type": "code",
      "execution_count": null,
      "metadata": {
        "id": "HmHOWC-LsK3e",
        "colab": {
          "base_uri": "https://localhost:8080/"
        },
        "outputId": "4fd4cc44-8892-413d-a4d8-f4d2a8147f02"
      },
      "outputs": [
        {
          "output_type": "stream",
          "name": "stdout",
          "text": [
            "True\n"
          ]
        }
      ],
      "source": [
        "#Q2 Given a list of numbers,\n",
        "#return True if first and last number of a list is same\n",
        "#list=[1,2,5,4,1]\n",
        "list=[1,2,5,4,1]\n",
        "if list[0] == list[-1]:\n",
        "   print(True)"
      ]
    },
    {
      "cell_type": "code",
      "execution_count": null,
      "metadata": {
        "id": "umjb0R6WsK3e",
        "colab": {
          "base_uri": "https://localhost:8080/"
        },
        "outputId": "3694ee9c-1ae9-486f-d4fb-a3bf5457d083"
      },
      "outputs": [
        {
          "output_type": "stream",
          "name": "stdout",
          "text": [
            "1\n",
            "3\n",
            "5\n",
            "7\n",
            "9\n",
            "11\n",
            "13\n",
            "15\n",
            "17\n",
            "19\n"
          ]
        }
      ],
      "source": [
        "#Q3 Given a range of the first 10 numbers[1:10],\n",
        "#Iterate from the start number to the end number,\n",
        "#and In each iteration print the sum of the current number and previous number\n",
        "for i in range(1,11):\n",
        "  print(i + i - 1)"
      ]
    },
    {
      "cell_type": "code",
      "execution_count": null,
      "metadata": {
        "id": "CumBQ4A7sK3f",
        "colab": {
          "base_uri": "https://localhost:8080/",
          "height": 35
        },
        "outputId": "cbb1a366-acc9-46e1-fb4d-6b56e8dee43d"
      },
      "outputs": [
        {
          "output_type": "execute_result",
          "data": {
            "text/plain": [
              "'NoeCnd'"
            ],
            "application/vnd.google.colaboratory.intrinsic+json": {
              "type": "string"
            }
          },
          "metadata": {},
          "execution_count": 4
        }
      ],
      "source": [
        "#Q4 Given a string name,\n",
        "#display only those characters which are present at an even index number\n",
        "name=\"NPowerCanada\"\n",
        "name[::2]"
      ]
    },
    {
      "cell_type": "code",
      "execution_count": null,
      "metadata": {
        "id": "WT03fV0WsK3f",
        "colab": {
          "base_uri": "https://localhost:8080/",
          "height": 35
        },
        "outputId": "41b1bb29-bc7f-476a-c6e1-82f028f9db82"
      },
      "outputs": [
        {
          "output_type": "execute_result",
          "data": {
            "text/plain": [
              "'Course'"
            ],
            "application/vnd.google.colaboratory.intrinsic+json": {
              "type": "string"
            }
          },
          "metadata": {},
          "execution_count": 5
        }
      ],
      "source": [
        "#Q5 Given a string oldString and an integer number n,\n",
        "#remove characters from a string starting from zero up to n\n",
        "#and return a newString\n",
        "oldString=\"PythonCourse\"\n",
        "n=6\n",
        "oldString[n::]"
      ]
    },
    {
      "cell_type": "code",
      "execution_count": null,
      "metadata": {
        "id": "zP4fSv9FsK3g",
        "colab": {
          "base_uri": "https://localhost:8080/"
        },
        "outputId": "69646bc4-9fae-464f-da06-d588257d808c"
      },
      "outputs": [
        {
          "output_type": "stream",
          "name": "stdout",
          "text": [
            "*\n",
            "**\n",
            "***\n",
            "****\n"
          ]
        }
      ],
      "source": [
        "#Q6 Print the follwoing pattern\n",
        "\n",
        "#*\n",
        "#**\n",
        "#***\n",
        "#****\n",
        "for i in range(1,5):\n",
        "  print('*' * i)"
      ]
    },
    {
      "cell_type": "code",
      "execution_count": null,
      "metadata": {
        "id": "QbpPFHQosK3g",
        "colab": {
          "base_uri": "https://localhost:8080/"
        },
        "outputId": "2144cd53-7628-4950-fc34-987bd15c1389"
      },
      "outputs": [
        {
          "output_type": "execute_result",
          "data": {
            "text/plain": [
              "[60, 50, 70, 90]"
            ]
          },
          "metadata": {},
          "execution_count": 11
        }
      ],
      "source": [
        "#Q7 Reverse the following list using for loop\n",
        "lst=[90,70,50,60]\n",
        "for i in range(int(len(lst) / 2)):\n",
        "  tmp = lst[i]\n",
        "  lst[i] = lst[-i -1]\n",
        "  lst[-i -1] = tmp\n",
        "lst"
      ]
    },
    {
      "cell_type": "code",
      "execution_count": null,
      "metadata": {
        "id": "WNIVS8gGsK3h",
        "colab": {
          "base_uri": "https://localhost:8080/"
        },
        "outputId": "006d570e-0a30-432e-c8fb-2812c5aec078"
      },
      "outputs": [
        {
          "output_type": "stream",
          "name": "stdout",
          "text": [
            "-10\n",
            "-9\n",
            "-8\n",
            "-7\n",
            "-6\n",
            "-5\n",
            "-4\n",
            "-3\n",
            "-2\n",
            "-1\n"
          ]
        }
      ],
      "source": [
        "#Q8 Display numbers from -10 to -1 using for loop\n",
        "#[hint use range method]\n",
        "for i in range(-10, 0):\n",
        "  print(i)"
      ]
    }
  ],
  "metadata": {
    "kernelspec": {
      "display_name": "Python 3 (ipykernel)",
      "language": "python",
      "name": "python3"
    },
    "language_info": {
      "codemirror_mode": {
        "name": "ipython",
        "version": 3
      },
      "file_extension": ".py",
      "mimetype": "text/x-python",
      "name": "python",
      "nbconvert_exporter": "python",
      "pygments_lexer": "ipython3",
      "version": "3.9.12"
    },
    "colab": {
      "provenance": [],
      "include_colab_link": true
    }
  },
  "nbformat": 4,
  "nbformat_minor": 0
}