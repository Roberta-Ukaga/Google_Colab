{
  "cells": [
    {
      "cell_type": "markdown",
      "metadata": {
        "id": "view-in-github",
        "colab_type": "text"
      },
      "source": [
        "<a href=\"https://colab.research.google.com/github/Roberta-Ukaga/Google_Colab_Dump/blob/main/Python_Lists_Exercises_.ipynb\" target=\"_parent\"><img src=\"https://colab.research.google.com/assets/colab-badge.svg\" alt=\"Open In Colab\"/></a>"
      ]
    },
    {
      "cell_type": "markdown",
      "metadata": {
        "id": "_f-Y_p3Pp59T"
      },
      "source": [
        "# Python Lists Exercises"
      ]
    },
    {
      "cell_type": "code",
      "execution_count": null,
      "metadata": {
        "id": "aoWRCjmFp59V"
      },
      "outputs": [],
      "source": [
        "#Q1 Create a tuple with all participant names in the JDA program\n",
        "participants = (\"Adanma\", \"Akanksha\", \"Aminat\", \"Ankur\", \"Anton\", \"Athira Lakshmi\",\n",
        "    \"Ayaz\", \"Chun Ming\", \"Deepthy\", \"Ellie\", \"Eugene\", \"Gaurav\", \"Gurkirat\",\n",
        "    \"Janki\", \"Jaykumar\", \"Jeremiah\", \"Jue\", \"Kaushalkumar Jayeshkumar\",\n",
        "    \"Kiruthika\", \"Krupali\", \"Lidya\", \"Malisha Rahman\", \"Maurice Anne\",\n",
        "    \"Mohammed\", \"Nada\", \"Nam\", \"Nikhil\", \"Pushpinder\", \"Rajanandhini\",\n",
        "    \"Ramish\", \"Rutvi\", \"Safwan\", \"Sai Praneeth\", \"Sarath\", \"Sarvesh\",\n",
        "    \"Sevim\", \"Shamreen Fathima\", \"Sumanjali\", \"Spencer\", \"Tsz Wa\", \"Tyrone\",\n",
        "    \"Xiao\", \"Zelalem\")"
      ]
    },
    {
      "cell_type": "code",
      "execution_count": null,
      "metadata": {
        "id": "JL86Nghnp59W"
      },
      "outputs": [],
      "source": [
        "#Q2 Convert the tuple into a list called pps_L\n",
        "pps_L = list(participants)"
      ]
    },
    {
      "cell_type": "code",
      "execution_count": null,
      "metadata": {
        "id": "oUWL2Hiyp59X",
        "colab": {
          "base_uri": "https://localhost:8080/"
        },
        "outputId": "4fad2262-547b-4306-bbe0-7d52d895d1d4"
      },
      "outputs": [
        {
          "output_type": "execute_result",
          "data": {
            "text/plain": [
              "43"
            ]
          },
          "metadata": {},
          "execution_count": 21
        }
      ],
      "source": [
        "#Q3 What is the length of your list\n",
        "len(pps_L)"
      ]
    },
    {
      "cell_type": "code",
      "execution_count": null,
      "metadata": {
        "id": "EjOxH0Dzp59X",
        "colab": {
          "base_uri": "https://localhost:8080/"
        },
        "outputId": "d020126e-41ad-4026-c90a-8cf227548439"
      },
      "outputs": [
        {
          "output_type": "stream",
          "name": "stdout",
          "text": [
            "Ankur\n",
            "Athira Lakshmi\n",
            "Jaykumar\n",
            "Rutvi\n",
            "Spencer\n"
          ]
        }
      ],
      "source": [
        "#Q4 Find the values stored in indexes [3],[5],[14],[30],[38]\n",
        "indexes = (3,5,14,30,38)\n",
        "for i in indexes:\n",
        "  print(pps_L[i])"
      ]
    },
    {
      "cell_type": "code",
      "execution_count": null,
      "metadata": {
        "id": "y261hZ8Wp59X",
        "colab": {
          "base_uri": "https://localhost:8080/"
        },
        "outputId": "18265033-cdb0-47e5-fe01-2da5845bd45b"
      },
      "outputs": [
        {
          "output_type": "execute_result",
          "data": {
            "text/plain": [
              "False"
            ]
          },
          "metadata": {},
          "execution_count": 23
        }
      ],
      "source": [
        "#Q5 Check if \"Sarah\" is in the list\n",
        "'Sarah' in pps_L"
      ]
    },
    {
      "cell_type": "code",
      "execution_count": null,
      "metadata": {
        "id": "cFWlXdfrp59Y"
      },
      "outputs": [],
      "source": [
        "#Q6 Add \"Sarah\" to your list\n",
        "pps_L.append('Sarah')"
      ]
    },
    {
      "cell_type": "code",
      "execution_count": null,
      "metadata": {
        "id": "MxNgfYpUp59Y",
        "colab": {
          "base_uri": "https://localhost:8080/"
        },
        "outputId": "e7532ac9-990f-42b8-f5be-8a4c1cb5a5c8"
      },
      "outputs": [
        {
          "output_type": "execute_result",
          "data": {
            "text/plain": [
              "False"
            ]
          },
          "metadata": {},
          "execution_count": 25
        }
      ],
      "source": [
        "#Q7 Check if \"Bashir\" is in the list\n",
        "'Bashir' in pps_L"
      ]
    },
    {
      "cell_type": "code",
      "execution_count": null,
      "metadata": {
        "id": "kxQ99s0wp59Y",
        "colab": {
          "base_uri": "https://localhost:8080/"
        },
        "outputId": "e7914031-fab0-4755-8c2b-495cd0ff6d0b"
      },
      "outputs": [
        {
          "output_type": "execute_result",
          "data": {
            "text/plain": [
              "True"
            ]
          },
          "metadata": {},
          "execution_count": 26
        }
      ],
      "source": [
        "#Q9 Add \"Bashir\" to your list\n",
        "pps_L.append('Bashir')\n",
        "'Bashir' in pps_L"
      ]
    },
    {
      "cell_type": "code",
      "execution_count": null,
      "metadata": {
        "id": "JdVaVcsNp59Y",
        "colab": {
          "base_uri": "https://localhost:8080/"
        },
        "outputId": "00ef9bae-c701-48bc-92d1-6b1713916431"
      },
      "outputs": [
        {
          "output_type": "execute_result",
          "data": {
            "text/plain": [
              "43"
            ]
          },
          "metadata": {},
          "execution_count": 28
        }
      ],
      "source": [
        "#Q10 Find the index of the element \"Sarah\" in the list\n",
        "sarah_index = pps_L.index('Sarah')\n",
        "sarah_index"
      ]
    },
    {
      "cell_type": "code",
      "execution_count": null,
      "metadata": {
        "id": "A8iElDMwp59Y",
        "colab": {
          "base_uri": "https://localhost:8080/",
          "height": 35
        },
        "outputId": "fa8abd6f-77d9-467e-d9eb-2fdc99d8249b"
      },
      "outputs": [
        {
          "output_type": "execute_result",
          "data": {
            "text/plain": [
              "'Instructor'"
            ],
            "application/vnd.google.colaboratory.intrinsic+json": {
              "type": "string"
            }
          },
          "metadata": {},
          "execution_count": 29
        }
      ],
      "source": [
        "#Q11 Change the value of the index in Q10 from \"Sarah\" to \"Instructor\"\n",
        "pps_L.insert(sarah_index, 'Instructor')\n",
        "pps_L[sarah_index]"
      ]
    },
    {
      "cell_type": "code",
      "execution_count": null,
      "metadata": {
        "id": "rlEoYzi3p59Z",
        "colab": {
          "base_uri": "https://localhost:8080/"
        },
        "outputId": "e5b2b5f7-77ae-4cfb-9f18-bdd3a94a8da8"
      },
      "outputs": [
        {
          "output_type": "execute_result",
          "data": {
            "text/plain": [
              "45"
            ]
          },
          "metadata": {},
          "execution_count": 30
        }
      ],
      "source": [
        "#Q12 Find the index of the element \"Bashir\" in the list\n",
        "bashir_index = pps_L.index('Bashir')\n",
        "bashir_index"
      ]
    },
    {
      "cell_type": "code",
      "execution_count": null,
      "metadata": {
        "id": "PrTnr8dap59Z",
        "colab": {
          "base_uri": "https://localhost:8080/",
          "height": 35
        },
        "outputId": "171f1fd3-1f30-4677-9e39-17d07bfdb6b2"
      },
      "outputs": [
        {
          "output_type": "execute_result",
          "data": {
            "text/plain": [
              "'Peer-Mentor'"
            ],
            "application/vnd.google.colaboratory.intrinsic+json": {
              "type": "string"
            }
          },
          "metadata": {},
          "execution_count": 31
        }
      ],
      "source": [
        "#Q13 Change the value of the index in Q12 from \"Bashir\" to \"Peer-Mentor\"\n",
        "pps_L.insert(bashir_index, 'Peer-Mentor')\n",
        "pps_L[bashir_index]"
      ]
    }
  ],
  "metadata": {
    "kernelspec": {
      "display_name": "Python 3 (ipykernel)",
      "language": "python",
      "name": "python3"
    },
    "language_info": {
      "codemirror_mode": {
        "name": "ipython",
        "version": 3
      },
      "file_extension": ".py",
      "mimetype": "text/x-python",
      "name": "python",
      "nbconvert_exporter": "python",
      "pygments_lexer": "ipython3",
      "version": "3.9.12"
    },
    "colab": {
      "provenance": [],
      "include_colab_link": true
    }
  },
  "nbformat": 4,
  "nbformat_minor": 0
}