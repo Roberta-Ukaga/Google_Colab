{
  "cells": [
    {
      "cell_type": "markdown",
      "metadata": {
        "id": "view-in-github",
        "colab_type": "text"
      },
      "source": [
        "<a href=\"https://colab.research.google.com/github/Roberta-Ukaga/Google_Colab_Dump/blob/main/Python_Tuples_Practice_Exercises.ipynb\" target=\"_parent\"><img src=\"https://colab.research.google.com/assets/colab-badge.svg\" alt=\"Open In Colab\"/></a>"
      ]
    },
    {
      "cell_type": "markdown",
      "metadata": {
        "id": "vkIYbnzzqEMl"
      },
      "source": [
        "# Python Tuples Exercises"
      ]
    },
    {
      "cell_type": "code",
      "execution_count": null,
      "metadata": {
        "id": "dAz15Px8qEMn"
      },
      "outputs": [],
      "source": [
        "#Q1 Create myTuple tuple with the follwoing values\n",
        "#(\"NPower\",\"JDA\",\"Tuesday\",30,3,2021)\n",
        "mytuple = (\"NPower\",\"JDA\",\"Tuesday\",30,3,2021)"
      ]
    },
    {
      "cell_type": "code",
      "execution_count": null,
      "metadata": {
        "id": "ZkwBzWQmqEMp",
        "colab": {
          "base_uri": "https://localhost:8080/"
        },
        "outputId": "21804542-5f17-4d65-f09f-f6a76f0bf37f"
      },
      "outputs": [
        {
          "output_type": "execute_result",
          "data": {
            "text/plain": [
              "tuple"
            ]
          },
          "metadata": {},
          "execution_count": 2
        }
      ],
      "source": [
        "#Q2 What is the type of myTuple\n",
        "type(mytuple)"
      ]
    },
    {
      "cell_type": "code",
      "execution_count": null,
      "metadata": {
        "id": "WveCjyrFqEMp",
        "colab": {
          "base_uri": "https://localhost:8080/"
        },
        "outputId": "8d1118ec-37ea-476f-b317-80fd40359a85"
      },
      "outputs": [
        {
          "output_type": "execute_result",
          "data": {
            "text/plain": [
              "6"
            ]
          },
          "metadata": {},
          "execution_count": 3
        }
      ],
      "source": [
        "#Q3 What is the length of myTuple\n",
        "len(mytuple)"
      ]
    },
    {
      "cell_type": "code",
      "execution_count": null,
      "metadata": {
        "id": "sugs96-iqEMp",
        "colab": {
          "base_uri": "https://localhost:8080/"
        },
        "outputId": "00613fb1-a815-4164-decb-7d6a1cef67be"
      },
      "outputs": [
        {
          "output_type": "stream",
          "name": "stdout",
          "text": [
            "NPower\n",
            "JDA\n",
            "Tuesday\n",
            "30\n",
            "3\n",
            "2021\n"
          ]
        }
      ],
      "source": [
        "#Q4 print the values in each index #Use regular indexing\n",
        "for i in range(len(mytuple)):\n",
        "  print(mytuple[i])"
      ]
    },
    {
      "cell_type": "code",
      "execution_count": null,
      "metadata": {
        "id": "ZQyUTNVyqEMq",
        "colab": {
          "base_uri": "https://localhost:8080/"
        },
        "outputId": "e701d15f-ba48-4df0-fd03-5ea7bb83cea6"
      },
      "outputs": [
        {
          "output_type": "stream",
          "name": "stdout",
          "text": [
            "2021\n",
            "3\n",
            "30\n",
            "Tuesday\n",
            "JDA\n",
            "NPower\n"
          ]
        }
      ],
      "source": [
        "#Q5 print the values in each index #Use negative indexing\n",
        "for i in range(len(mytuple)):\n",
        "  print(mytuple[-i -1])"
      ]
    },
    {
      "cell_type": "code",
      "execution_count": null,
      "metadata": {
        "id": "XxjeMswpqEMq",
        "colab": {
          "base_uri": "https://localhost:8080/"
        },
        "outputId": "bc90a58a-89a2-4780-bef1-39a78376d8e0"
      },
      "outputs": [
        {
          "output_type": "stream",
          "name": "stdout",
          "text": [
            "<class 'str'>\n",
            "<class 'str'>\n",
            "<class 'str'>\n",
            "<class 'int'>\n",
            "<class 'int'>\n",
            "<class 'int'>\n"
          ]
        }
      ],
      "source": [
        "#Q6 what is the type of each value\n",
        "for item in mytuple:\n",
        "  print(type(item))"
      ]
    },
    {
      "cell_type": "code",
      "execution_count": null,
      "metadata": {
        "id": "Y8eDJKH2qEMq"
      },
      "outputs": [],
      "source": [
        "#Q7 unpack myTuple in the follwoeing variables\n",
        "#name,program,dayName,month,day,year accordingly\n",
        "# print the variables\n",
        "name = mytuple[0]\n",
        "program = mytuple[1]\n",
        "dayName = mytuple[2]\n",
        "month = mytuple[3]\n",
        "day = mytuple[4]\n",
        "year = mytuple[5]"
      ]
    },
    {
      "cell_type": "code",
      "execution_count": null,
      "metadata": {
        "id": "SBW5r9TyqEMq",
        "colab": {
          "base_uri": "https://localhost:8080/",
          "height": 245
        },
        "outputId": "6dde6732-9b5a-4cee-d04d-e05c33d5fc14"
      },
      "outputs": [
        {
          "output_type": "error",
          "ename": "NameError",
          "evalue": "ignored",
          "traceback": [
            "\u001b[0;31m---------------------------------------------------------------------------\u001b[0m",
            "\u001b[0;31mNameError\u001b[0m                                 Traceback (most recent call last)",
            "\u001b[0;32m<ipython-input-13-d8bf4c221124>\u001b[0m in \u001b[0;36m<cell line: 3>\u001b[0;34m()\u001b[0m\n\u001b[1;32m      1\u001b[0m \u001b[0;31m#Q8 unpack myTuple2 in the follwoeing variables name,program,dayName.\u001b[0m\u001b[0;34m\u001b[0m\u001b[0;34m\u001b[0m\u001b[0m\n\u001b[1;32m      2\u001b[0m \u001b[0;31m# What will happen to variables (name,program,dayName) and (month,day,year)\u001b[0m\u001b[0;34m\u001b[0m\u001b[0;34m\u001b[0m\u001b[0m\n\u001b[0;32m----> 3\u001b[0;31m \u001b[0mname\u001b[0m \u001b[0;34m=\u001b[0m \u001b[0mmytuple2\u001b[0m\u001b[0;34m[\u001b[0m\u001b[0;36m0\u001b[0m\u001b[0;34m]\u001b[0m\u001b[0;34m\u001b[0m\u001b[0;34m\u001b[0m\u001b[0m\n\u001b[0m\u001b[1;32m      4\u001b[0m \u001b[0mprogram\u001b[0m \u001b[0;34m=\u001b[0m \u001b[0mmytuple2\u001b[0m\u001b[0;34m[\u001b[0m\u001b[0;36m1\u001b[0m\u001b[0;34m]\u001b[0m\u001b[0;34m\u001b[0m\u001b[0;34m\u001b[0m\u001b[0m\n\u001b[1;32m      5\u001b[0m \u001b[0mdayName\u001b[0m \u001b[0;34m=\u001b[0m \u001b[0mmytuple2\u001b[0m\u001b[0;34m[\u001b[0m\u001b[0;36m2\u001b[0m\u001b[0;34m]\u001b[0m\u001b[0;34m\u001b[0m\u001b[0;34m\u001b[0m\u001b[0m\n",
            "\u001b[0;31mNameError\u001b[0m: name 'mytuple2' is not defined"
          ]
        }
      ],
      "source": [
        "#Q8 unpack myTuple2 in the following variables name,program,dayName.\n",
        "# What will happen to variables (name,program,dayName) and (month,day,year)\n",
        "name = mytuple2[0]\n",
        "program = mytuple2[1]\n",
        "dayName = mytuple2[2]\n",
        "month = mytuple2[3]\n",
        "day = mytuple2[4]\n",
        "year = mytuple2[5]"
      ]
    },
    {
      "cell_type": "code",
      "execution_count": null,
      "metadata": {
        "id": "utPJFS1-qEMr",
        "colab": {
          "base_uri": "https://localhost:8080/"
        },
        "outputId": "5b83cb91-75ed-4392-ef8d-fc5ed22f9a8c"
      },
      "outputs": [
        {
          "output_type": "stream",
          "name": "stdout",
          "text": [
            "Type a <class 'str'>\n",
            "Jerry 2 89\n",
            "<class 'tuple'>\n",
            "('Ulan',)\n",
            "Leul\n"
          ]
        }
      ],
      "source": [
        "# Note the following\n",
        "Tuple1=(\"Jerry\",2,89) #This is a tuple with 3 elements\n",
        "Tuple2=(\"Ulan\",)#This is a tuple with 1 element\n",
        "test=\"Leul\" #This is a VARIABLE with string value\n",
        "\n",
        "a,b,c=Tuple1\n",
        "print(\"Type a\",type(a))\n",
        "print(a,b,c)\n",
        "\n",
        "d=Tuple2\n",
        "print(type(d))\n",
        "print(d)\n",
        "\n",
        "e=test\n",
        "print(e)"
      ]
    },
    {
      "cell_type": "code",
      "execution_count": null,
      "metadata": {
        "id": "MfDSF2HOqEMr",
        "colab": {
          "base_uri": "https://localhost:8080/",
          "height": 262
        },
        "outputId": "ba25404b-54be-4bd1-c16d-7289992fe4c9"
      },
      "outputs": [
        {
          "output_type": "stream",
          "name": "stdout",
          "text": [
            "(1, 2, 3)\n",
            "(4, 5, 6)\n"
          ]
        },
        {
          "output_type": "error",
          "ename": "TypeError",
          "evalue": "ignored",
          "traceback": [
            "\u001b[0;31m---------------------------------------------------------------------------\u001b[0m",
            "\u001b[0;31mTypeError\u001b[0m                                 Traceback (most recent call last)",
            "\u001b[0;32m<ipython-input-11-4159d04daa2f>\u001b[0m in \u001b[0;36m<cell line: 13>\u001b[0;34m()\u001b[0m\n\u001b[1;32m     11\u001b[0m \u001b[0;31m#But we can't change or edit a value for the existing tuple\u001b[0m\u001b[0;34m\u001b[0m\u001b[0;34m\u001b[0m\u001b[0m\n\u001b[1;32m     12\u001b[0m \u001b[0;34m\u001b[0m\u001b[0m\n\u001b[0;32m---> 13\u001b[0;31m \u001b[0mtestTuple\u001b[0m\u001b[0;34m[\u001b[0m\u001b[0;36m0\u001b[0m\u001b[0;34m]\u001b[0m\u001b[0;34m=\u001b[0m\u001b[0;36m6\u001b[0m \u001b[0;31m#ERROR 'tuple' object does not support item assignment\u001b[0m\u001b[0;34m\u001b[0m\u001b[0;34m\u001b[0m\u001b[0m\n\u001b[0m\u001b[1;32m     14\u001b[0m \u001b[0;34m\u001b[0m\u001b[0m\n",
            "\u001b[0;31mTypeError\u001b[0m: 'tuple' object does not support item assignment"
          ]
        }
      ],
      "source": [
        "#Tuples are immutable\n",
        "#we can always make the testTuple variable reference a new tuple in the memory\n",
        "#and hold a different information\n",
        "\n",
        "testTuple=(1,2,3)\n",
        "print(testTuple)\n",
        "\n",
        "testTuple=(4,5,6)\n",
        "print(testTuple)\n",
        "\n",
        "#But we can't change or edit a value for the existing tuple\n",
        "\n",
        "testTuple[0]=6 #ERROR 'tuple' object does not support item assignment\n",
        "\n"
      ]
    },
    {
      "cell_type": "code",
      "execution_count": null,
      "metadata": {
        "id": "vAL32myPqEMs",
        "colab": {
          "base_uri": "https://localhost:8080/"
        },
        "outputId": "7badc4cd-fa6a-41d5-e39a-675d22fc4681"
      },
      "outputs": [
        {
          "output_type": "execute_result",
          "data": {
            "text/plain": [
              "(2021, 3, 30, 'Tuesday', 'JDA', 'NPower')"
            ]
          },
          "metadata": {},
          "execution_count": 14
        }
      ],
      "source": [
        "#Q9 Reverse myTuple, output should looks like\n",
        "#(2021,3,30,\"Tuesday\",\"JDA\",\"NPower\")\n",
        "reversedtuple = mytuple[::-1]\n",
        "reversedtuple"
      ]
    },
    {
      "cell_type": "code",
      "execution_count": null,
      "metadata": {
        "id": "dex_5qK7qEMs"
      },
      "outputs": [],
      "source": [
        "#Q10 Create nestedTuple=((\"Coursera\",\"course\",6),(\"week\",(2,\"Lists\",\"Tuple\")))\n",
        "nestedTuple=((\"Coursera\",\"course\",6),(\"week\",(2,\"Lists\",\"Tuple\")))"
      ]
    },
    {
      "cell_type": "code",
      "execution_count": null,
      "metadata": {
        "id": "zdFdsqpYqEMs",
        "colab": {
          "base_uri": "https://localhost:8080/"
        },
        "outputId": "7c60556b-52bb-4397-d52c-3ba0a8dc5fa7"
      },
      "outputs": [
        {
          "output_type": "execute_result",
          "data": {
            "text/plain": [
              "(('week', (2, 'Lists', 'Tuple')),)"
            ]
          },
          "metadata": {},
          "execution_count": 16
        }
      ],
      "source": [
        "#Q11 What is the output of nestedTuple[1:2]\n",
        "nestedTuple[1:2]"
      ]
    },
    {
      "cell_type": "code",
      "execution_count": null,
      "metadata": {
        "id": "FgdTuIfeqEMs",
        "colab": {
          "base_uri": "https://localhost:8080/"
        },
        "outputId": "8507d55f-8315-4587-ebad-5455964612f6"
      },
      "outputs": [
        {
          "output_type": "stream",
          "name": "stdout",
          "text": [
            "('Coursera', 'course', 6)\n",
            "('week', (2, 'Lists', 'Tuple'))\n"
          ]
        }
      ],
      "source": [
        "#Q12 print each element in the nestedTuple\n",
        "for item in nestedTuple:\n",
        "  print(item)"
      ]
    },
    {
      "cell_type": "code",
      "execution_count": null,
      "metadata": {
        "id": "5c-3Y5qqqEMt",
        "colab": {
          "base_uri": "https://localhost:8080/"
        },
        "outputId": "a6fb866d-104c-4b5f-ca69-25544647eff1"
      },
      "outputs": [
        {
          "output_type": "execute_result",
          "data": {
            "text/plain": [
              "(2, 'Lists', 'Tuple')"
            ]
          },
          "metadata": {},
          "execution_count": 18
        }
      ],
      "source": [
        "#Q13 Access (2,\"Lists\",\"Tuple\") from nestedTuple\n",
        "nestedTuple[1][1]"
      ]
    },
    {
      "cell_type": "code",
      "execution_count": null,
      "metadata": {
        "id": "r_y1-VZTqEMt",
        "colab": {
          "base_uri": "https://localhost:8080/",
          "height": 35
        },
        "outputId": "f139e921-a439-48b1-dc82-a4afb0f94a05"
      },
      "outputs": [
        {
          "output_type": "execute_result",
          "data": {
            "text/plain": [
              "'Lists'"
            ],
            "application/vnd.google.colaboratory.intrinsic+json": {
              "type": "string"
            }
          },
          "metadata": {},
          "execution_count": 19
        }
      ],
      "source": [
        "#Q14 Access the value \"Lists\" from nestedTuple\n",
        "nestedTuple[1][1][1]"
      ]
    },
    {
      "cell_type": "code",
      "execution_count": null,
      "metadata": {
        "id": "VHzYyXPSqEMt",
        "colab": {
          "base_uri": "https://localhost:8080/",
          "height": 35
        },
        "outputId": "6a413a9c-5b6b-456a-abf0-0fd4c5ea216c"
      },
      "outputs": [
        {
          "output_type": "execute_result",
          "data": {
            "text/plain": [
              "'Tuple'"
            ],
            "application/vnd.google.colaboratory.intrinsic+json": {
              "type": "string"
            }
          },
          "metadata": {},
          "execution_count": 20
        }
      ],
      "source": [
        "#Q15 Access the value \"Tuple\" from nestedTuple\n",
        "nestedTuple[1][1][2]"
      ]
    },
    {
      "cell_type": "code",
      "execution_count": null,
      "metadata": {
        "id": "WOo8y4LXqEMt",
        "colab": {
          "base_uri": "https://localhost:8080/",
          "height": 35
        },
        "outputId": "04f35dc5-6b8e-49b8-8bcc-909469bad98f"
      },
      "outputs": [
        {
          "output_type": "execute_result",
          "data": {
            "text/plain": [
              "'course'"
            ],
            "application/vnd.google.colaboratory.intrinsic+json": {
              "type": "string"
            }
          },
          "metadata": {},
          "execution_count": 21
        }
      ],
      "source": [
        "#Q16 Access the value \"course\" from nestedTuple\n",
        "nestedTuple[0][1]"
      ]
    },
    {
      "cell_type": "code",
      "execution_count": null,
      "metadata": {
        "id": "VJGQF3nQqEMt",
        "colab": {
          "base_uri": "https://localhost:8080/"
        },
        "outputId": "52995864-fe75-490f-d92d-5f944b1b2bf4"
      },
      "outputs": [
        {
          "output_type": "execute_result",
          "data": {
            "text/plain": [
              "('NPower',\n",
              " 'JDA',\n",
              " 'Tuesday',\n",
              " 30,\n",
              " 3,\n",
              " 2021,\n",
              " ('Coursera', 'course', 6),\n",
              " ('week', (2, 'Lists', 'Tuple')))"
            ]
          },
          "metadata": {},
          "execution_count": 22
        }
      ],
      "source": [
        "#Q17 Concatenate myTuple with nestedTuple\n",
        "mytuple += nestedTuple\n",
        "mytuple"
      ]
    },
    {
      "cell_type": "code",
      "execution_count": null,
      "metadata": {
        "id": "DbiUlor1qEMt",
        "colab": {
          "base_uri": "https://localhost:8080/"
        },
        "outputId": "0e9255d2-2c99-46ed-b1ab-8f7754fc14f0"
      },
      "outputs": [
        {
          "output_type": "execute_result",
          "data": {
            "text/plain": [
              "('NPower',\n",
              " 'JDA',\n",
              " 'Tuesday',\n",
              " 30,\n",
              " 3,\n",
              " 2021,\n",
              " ('Coursera', 'course', 6),\n",
              " ('week', (2, 'Lists', 'Tuple')),\n",
              " 'Adanma')"
            ]
          },
          "metadata": {},
          "execution_count": 24
        }
      ],
      "source": [
        "#Q18 add your name to the tuple\n",
        "mytuple += ('Adanma',)\n",
        "mytuple"
      ]
    },
    {
      "cell_type": "code",
      "execution_count": null,
      "metadata": {
        "id": "ZrzLT_oqqEMt",
        "colab": {
          "base_uri": "https://localhost:8080/"
        },
        "outputId": "be92a63e-f582-4bf9-cead-66d3455c4cd1"
      },
      "outputs": [
        {
          "output_type": "execute_result",
          "data": {
            "text/plain": [
              "True"
            ]
          },
          "metadata": {},
          "execution_count": 30
        }
      ],
      "source": [
        "#Q19 check whether Coursera exists within  myTuple\n",
        "\n",
        "# NOTE \"in\" doesn't work properly with nested tuples\n",
        "def check_tuple(nestedTuple):\n",
        "  for item in nestedTuple:\n",
        "    if type(item) == tuple:\n",
        "      return check_tuple(item)\n",
        "    elif item == 'Coursera':\n",
        "      return True\n",
        "  return False\n",
        "\n",
        "check = check_tuple(mytuple)\n",
        "check"
      ]
    },
    {
      "cell_type": "code",
      "execution_count": null,
      "metadata": {
        "id": "f2uQPun5qEMt",
        "colab": {
          "base_uri": "https://localhost:8080/"
        },
        "outputId": "e84674b4-2982-40d7-e411-56a79a5f04b1"
      },
      "outputs": [
        {
          "output_type": "execute_result",
          "data": {
            "text/plain": [
              "True"
            ]
          },
          "metadata": {},
          "execution_count": 31
        }
      ],
      "source": [
        "#Q20 check whether 55 exists within testTuple\n",
        "testTuple=(1,2,33,55,6,55)\n",
        "55 in testTuple"
      ]
    },
    {
      "cell_type": "code",
      "execution_count": null,
      "metadata": {
        "id": "xYofw1sgqEMu",
        "colab": {
          "base_uri": "https://localhost:8080/"
        },
        "outputId": "213ea634-d19f-42bc-a079-7e93f7efc76f"
      },
      "outputs": [
        {
          "output_type": "stream",
          "name": "stdout",
          "text": [
            "Found 'JDA' at 1\n",
            "Found 'Coursera' at 6\n"
          ]
        }
      ],
      "source": [
        "#Q21 Find the index of JDA in myTuple\n",
        "\n",
        "print(f\"Found 'JDA' at {mytuple.index('JDA')}\")\n",
        "# Find the index of 'Coursera' in myTuple\n",
        "# NOTE index doesn't work properly with nested tuples # Wrong output\n",
        "for index, item in enumerate(mytuple):\n",
        "    if isinstance(item, tuple) and \"Coursera\" in item:\n",
        "        print(f\"Found 'Coursera' at {index}\")\n",
        "        break"
      ]
    },
    {
      "cell_type": "code",
      "execution_count": null,
      "metadata": {
        "id": "voqTRkSSqEMu",
        "colab": {
          "base_uri": "https://localhost:8080/",
          "height": 35
        },
        "outputId": "c1cf528f-45a2-4abf-9e13-90b83d28e33a"
      },
      "outputs": [
        {
          "output_type": "execute_result",
          "data": {
            "text/plain": [
              "'Adanma'"
            ],
            "application/vnd.google.colaboratory.intrinsic+json": {
              "type": "string"
            }
          },
          "metadata": {},
          "execution_count": 34
        }
      ],
      "source": [
        "#Q22 print index 8 from myTuple\n",
        "mytuple[8]"
      ]
    },
    {
      "cell_type": "code",
      "execution_count": null,
      "metadata": {
        "id": "hrTWc-esqEMu",
        "colab": {
          "base_uri": "https://localhost:8080/"
        },
        "outputId": "0a50a3d8-6cc7-4401-c8a2-b88b25b5264a"
      },
      "outputs": [
        {
          "output_type": "stream",
          "name": "stdout",
          "text": [
            "30\n",
            "2021\n"
          ]
        }
      ],
      "source": [
        "#Q23 Get the 4th element from the begining of myTuple\n",
        "#and 4th element from last of a myTuple\n",
        "print(mytuple[3])\n",
        "print(mytuple[-4])"
      ]
    },
    {
      "cell_type": "code",
      "execution_count": null,
      "metadata": {
        "id": "cAGpxQ4ZqEMu",
        "colab": {
          "base_uri": "https://localhost:8080/"
        },
        "outputId": "92fe1d04-97a1-4e7b-b2e9-47dc270ffaee"
      },
      "outputs": [
        {
          "output_type": "execute_result",
          "data": {
            "text/plain": [
              "2"
            ]
          },
          "metadata": {},
          "execution_count": 36
        }
      ],
      "source": [
        "#Q24 Find how many times 55 appeared in testTuple [Hint: Use method count()]\n",
        "testTuple.count(55)"
      ]
    }
  ],
  "metadata": {
    "kernelspec": {
      "display_name": "Python 3 (ipykernel)",
      "language": "python",
      "name": "python3"
    },
    "language_info": {
      "codemirror_mode": {
        "name": "ipython",
        "version": 3
      },
      "file_extension": ".py",
      "mimetype": "text/x-python",
      "name": "python",
      "nbconvert_exporter": "python",
      "pygments_lexer": "ipython3",
      "version": "3.9.12"
    },
    "colab": {
      "provenance": [],
      "include_colab_link": true
    }
  },
  "nbformat": 4,
  "nbformat_minor": 0
}