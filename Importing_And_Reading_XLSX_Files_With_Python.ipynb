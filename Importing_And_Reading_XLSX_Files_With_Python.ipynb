{
  "nbformat": 4,
  "nbformat_minor": 0,
  "metadata": {
    "colab": {
      "provenance": [],
      "authorship_tag": "ABX9TyMmGaesXd9xbkD7ByDAGhZZ",
      "include_colab_link": true
    },
    "kernelspec": {
      "name": "python3",
      "display_name": "Python 3"
    },
    "language_info": {
      "name": "python"
    }
  },
  "cells": [
    {
      "cell_type": "markdown",
      "metadata": {
        "id": "view-in-github",
        "colab_type": "text"
      },
      "source": [
        "<a href=\"https://colab.research.google.com/github/Roberta-Ukaga/Google_Colab_Dump/blob/main/Importing_And_Reading_XLSX_Files_With_Python.ipynb\" target=\"_parent\"><img src=\"https://colab.research.google.com/assets/colab-badge.svg\" alt=\"Open In Colab\"/></a>"
      ]
    },
    {
      "cell_type": "code",
      "source": [
        "#importing and reading xlsx files on python\n",
        "import pandas as pd\n",
        "df = pd.read_excel(\"GoodBelly-DataSet.xlsx\")\n",
        "df.head()"
      ],
      "metadata": {
        "colab": {
          "base_uri": "https://localhost:8080/",
          "height": 310
        },
        "id": "o9_U7g-1lZrk",
        "outputId": "0b2e41d4-0438-4bc8-d3f1-3a251bdf557d"
      },
      "execution_count": null,
      "outputs": [
        {
          "output_type": "execute_result",
          "data": {
            "text/plain": [
              "        Date Region                    Store  Units Sold  \\\n",
              "0 2010-05-04     FL  Biscayne (aka Aventura)  150.702088   \n",
              "1 2010-05-11     FL  Biscayne (aka Aventura)  197.403797   \n",
              "2 2010-05-18     FL  Biscayne (aka Aventura)  235.106172   \n",
              "3 2010-05-25     FL  Biscayne (aka Aventura)  226.692427   \n",
              "4 2010-06-01     FL  Biscayne (aka Aventura)  257.688151   \n",
              "\n",
              "   Average Retail Price  Sales Rep  Endcap  Demo  Demo1-3  Demo4-5  Natural  \\\n",
              "0              4.390000          0       0     0        0        0        1   \n",
              "1              3.997692          0       0     0        0        0        1   \n",
              "2              3.809231          0       0     0        0        0        1   \n",
              "3              3.835000          0       0     0        0        0        1   \n",
              "4              3.902500          0       0     0        0        0        1   \n",
              "\n",
              "   Fitness  \n",
              "0        0  \n",
              "1        0  \n",
              "2        0  \n",
              "3        0  \n",
              "4        0  "
            ],
            "text/html": [
              "\n",
              "  <div id=\"df-fa7bc54a-1791-458e-b84e-304a0f7862cb\" class=\"colab-df-container\">\n",
              "    <div>\n",
              "<style scoped>\n",
              "    .dataframe tbody tr th:only-of-type {\n",
              "        vertical-align: middle;\n",
              "    }\n",
              "\n",
              "    .dataframe tbody tr th {\n",
              "        vertical-align: top;\n",
              "    }\n",
              "\n",
              "    .dataframe thead th {\n",
              "        text-align: right;\n",
              "    }\n",
              "</style>\n",
              "<table border=\"1\" class=\"dataframe\">\n",
              "  <thead>\n",
              "    <tr style=\"text-align: right;\">\n",
              "      <th></th>\n",
              "      <th>Date</th>\n",
              "      <th>Region</th>\n",
              "      <th>Store</th>\n",
              "      <th>Units Sold</th>\n",
              "      <th>Average Retail Price</th>\n",
              "      <th>Sales Rep</th>\n",
              "      <th>Endcap</th>\n",
              "      <th>Demo</th>\n",
              "      <th>Demo1-3</th>\n",
              "      <th>Demo4-5</th>\n",
              "      <th>Natural</th>\n",
              "      <th>Fitness</th>\n",
              "    </tr>\n",
              "  </thead>\n",
              "  <tbody>\n",
              "    <tr>\n",
              "      <th>0</th>\n",
              "      <td>2010-05-04</td>\n",
              "      <td>FL</td>\n",
              "      <td>Biscayne (aka Aventura)</td>\n",
              "      <td>150.702088</td>\n",
              "      <td>4.390000</td>\n",
              "      <td>0</td>\n",
              "      <td>0</td>\n",
              "      <td>0</td>\n",
              "      <td>0</td>\n",
              "      <td>0</td>\n",
              "      <td>1</td>\n",
              "      <td>0</td>\n",
              "    </tr>\n",
              "    <tr>\n",
              "      <th>1</th>\n",
              "      <td>2010-05-11</td>\n",
              "      <td>FL</td>\n",
              "      <td>Biscayne (aka Aventura)</td>\n",
              "      <td>197.403797</td>\n",
              "      <td>3.997692</td>\n",
              "      <td>0</td>\n",
              "      <td>0</td>\n",
              "      <td>0</td>\n",
              "      <td>0</td>\n",
              "      <td>0</td>\n",
              "      <td>1</td>\n",
              "      <td>0</td>\n",
              "    </tr>\n",
              "    <tr>\n",
              "      <th>2</th>\n",
              "      <td>2010-05-18</td>\n",
              "      <td>FL</td>\n",
              "      <td>Biscayne (aka Aventura)</td>\n",
              "      <td>235.106172</td>\n",
              "      <td>3.809231</td>\n",
              "      <td>0</td>\n",
              "      <td>0</td>\n",
              "      <td>0</td>\n",
              "      <td>0</td>\n",
              "      <td>0</td>\n",
              "      <td>1</td>\n",
              "      <td>0</td>\n",
              "    </tr>\n",
              "    <tr>\n",
              "      <th>3</th>\n",
              "      <td>2010-05-25</td>\n",
              "      <td>FL</td>\n",
              "      <td>Biscayne (aka Aventura)</td>\n",
              "      <td>226.692427</td>\n",
              "      <td>3.835000</td>\n",
              "      <td>0</td>\n",
              "      <td>0</td>\n",
              "      <td>0</td>\n",
              "      <td>0</td>\n",
              "      <td>0</td>\n",
              "      <td>1</td>\n",
              "      <td>0</td>\n",
              "    </tr>\n",
              "    <tr>\n",
              "      <th>4</th>\n",
              "      <td>2010-06-01</td>\n",
              "      <td>FL</td>\n",
              "      <td>Biscayne (aka Aventura)</td>\n",
              "      <td>257.688151</td>\n",
              "      <td>3.902500</td>\n",
              "      <td>0</td>\n",
              "      <td>0</td>\n",
              "      <td>0</td>\n",
              "      <td>0</td>\n",
              "      <td>0</td>\n",
              "      <td>1</td>\n",
              "      <td>0</td>\n",
              "    </tr>\n",
              "  </tbody>\n",
              "</table>\n",
              "</div>\n",
              "    <div class=\"colab-df-buttons\">\n",
              "\n",
              "  <div class=\"colab-df-container\">\n",
              "    <button class=\"colab-df-convert\" onclick=\"convertToInteractive('df-fa7bc54a-1791-458e-b84e-304a0f7862cb')\"\n",
              "            title=\"Convert this dataframe to an interactive table.\"\n",
              "            style=\"display:none;\">\n",
              "\n",
              "  <svg xmlns=\"http://www.w3.org/2000/svg\" height=\"24px\" viewBox=\"0 -960 960 960\">\n",
              "    <path d=\"M120-120v-720h720v720H120Zm60-500h600v-160H180v160Zm220 220h160v-160H400v160Zm0 220h160v-160H400v160ZM180-400h160v-160H180v160Zm440 0h160v-160H620v160ZM180-180h160v-160H180v160Zm440 0h160v-160H620v160Z\"/>\n",
              "  </svg>\n",
              "    </button>\n",
              "\n",
              "  <style>\n",
              "    .colab-df-container {\n",
              "      display:flex;\n",
              "      gap: 12px;\n",
              "    }\n",
              "\n",
              "    .colab-df-convert {\n",
              "      background-color: #E8F0FE;\n",
              "      border: none;\n",
              "      border-radius: 50%;\n",
              "      cursor: pointer;\n",
              "      display: none;\n",
              "      fill: #1967D2;\n",
              "      height: 32px;\n",
              "      padding: 0 0 0 0;\n",
              "      width: 32px;\n",
              "    }\n",
              "\n",
              "    .colab-df-convert:hover {\n",
              "      background-color: #E2EBFA;\n",
              "      box-shadow: 0px 1px 2px rgba(60, 64, 67, 0.3), 0px 1px 3px 1px rgba(60, 64, 67, 0.15);\n",
              "      fill: #174EA6;\n",
              "    }\n",
              "\n",
              "    .colab-df-buttons div {\n",
              "      margin-bottom: 4px;\n",
              "    }\n",
              "\n",
              "    [theme=dark] .colab-df-convert {\n",
              "      background-color: #3B4455;\n",
              "      fill: #D2E3FC;\n",
              "    }\n",
              "\n",
              "    [theme=dark] .colab-df-convert:hover {\n",
              "      background-color: #434B5C;\n",
              "      box-shadow: 0px 1px 3px 1px rgba(0, 0, 0, 0.15);\n",
              "      filter: drop-shadow(0px 1px 2px rgba(0, 0, 0, 0.3));\n",
              "      fill: #FFFFFF;\n",
              "    }\n",
              "  </style>\n",
              "\n",
              "    <script>\n",
              "      const buttonEl =\n",
              "        document.querySelector('#df-fa7bc54a-1791-458e-b84e-304a0f7862cb button.colab-df-convert');\n",
              "      buttonEl.style.display =\n",
              "        google.colab.kernel.accessAllowed ? 'block' : 'none';\n",
              "\n",
              "      async function convertToInteractive(key) {\n",
              "        const element = document.querySelector('#df-fa7bc54a-1791-458e-b84e-304a0f7862cb');\n",
              "        const dataTable =\n",
              "          await google.colab.kernel.invokeFunction('convertToInteractive',\n",
              "                                                    [key], {});\n",
              "        if (!dataTable) return;\n",
              "\n",
              "        const docLinkHtml = 'Like what you see? Visit the ' +\n",
              "          '<a target=\"_blank\" href=https://colab.research.google.com/notebooks/data_table.ipynb>data table notebook</a>'\n",
              "          + ' to learn more about interactive tables.';\n",
              "        element.innerHTML = '';\n",
              "        dataTable['output_type'] = 'display_data';\n",
              "        await google.colab.output.renderOutput(dataTable, element);\n",
              "        const docLink = document.createElement('div');\n",
              "        docLink.innerHTML = docLinkHtml;\n",
              "        element.appendChild(docLink);\n",
              "      }\n",
              "    </script>\n",
              "  </div>\n",
              "\n",
              "\n",
              "<div id=\"df-89dad093-96d8-4322-986c-c1cd629ab798\">\n",
              "  <button class=\"colab-df-quickchart\" onclick=\"quickchart('df-89dad093-96d8-4322-986c-c1cd629ab798')\"\n",
              "            title=\"Suggest charts.\"\n",
              "            style=\"display:none;\">\n",
              "\n",
              "<svg xmlns=\"http://www.w3.org/2000/svg\" height=\"24px\"viewBox=\"0 0 24 24\"\n",
              "     width=\"24px\">\n",
              "    <g>\n",
              "        <path d=\"M19 3H5c-1.1 0-2 .9-2 2v14c0 1.1.9 2 2 2h14c1.1 0 2-.9 2-2V5c0-1.1-.9-2-2-2zM9 17H7v-7h2v7zm4 0h-2V7h2v10zm4 0h-2v-4h2v4z\"/>\n",
              "    </g>\n",
              "</svg>\n",
              "  </button>\n",
              "\n",
              "<style>\n",
              "  .colab-df-quickchart {\n",
              "      --bg-color: #E8F0FE;\n",
              "      --fill-color: #1967D2;\n",
              "      --hover-bg-color: #E2EBFA;\n",
              "      --hover-fill-color: #174EA6;\n",
              "      --disabled-fill-color: #AAA;\n",
              "      --disabled-bg-color: #DDD;\n",
              "  }\n",
              "\n",
              "  [theme=dark] .colab-df-quickchart {\n",
              "      --bg-color: #3B4455;\n",
              "      --fill-color: #D2E3FC;\n",
              "      --hover-bg-color: #434B5C;\n",
              "      --hover-fill-color: #FFFFFF;\n",
              "      --disabled-bg-color: #3B4455;\n",
              "      --disabled-fill-color: #666;\n",
              "  }\n",
              "\n",
              "  .colab-df-quickchart {\n",
              "    background-color: var(--bg-color);\n",
              "    border: none;\n",
              "    border-radius: 50%;\n",
              "    cursor: pointer;\n",
              "    display: none;\n",
              "    fill: var(--fill-color);\n",
              "    height: 32px;\n",
              "    padding: 0;\n",
              "    width: 32px;\n",
              "  }\n",
              "\n",
              "  .colab-df-quickchart:hover {\n",
              "    background-color: var(--hover-bg-color);\n",
              "    box-shadow: 0 1px 2px rgba(60, 64, 67, 0.3), 0 1px 3px 1px rgba(60, 64, 67, 0.15);\n",
              "    fill: var(--button-hover-fill-color);\n",
              "  }\n",
              "\n",
              "  .colab-df-quickchart-complete:disabled,\n",
              "  .colab-df-quickchart-complete:disabled:hover {\n",
              "    background-color: var(--disabled-bg-color);\n",
              "    fill: var(--disabled-fill-color);\n",
              "    box-shadow: none;\n",
              "  }\n",
              "\n",
              "  .colab-df-spinner {\n",
              "    border: 2px solid var(--fill-color);\n",
              "    border-color: transparent;\n",
              "    border-bottom-color: var(--fill-color);\n",
              "    animation:\n",
              "      spin 1s steps(1) infinite;\n",
              "  }\n",
              "\n",
              "  @keyframes spin {\n",
              "    0% {\n",
              "      border-color: transparent;\n",
              "      border-bottom-color: var(--fill-color);\n",
              "      border-left-color: var(--fill-color);\n",
              "    }\n",
              "    20% {\n",
              "      border-color: transparent;\n",
              "      border-left-color: var(--fill-color);\n",
              "      border-top-color: var(--fill-color);\n",
              "    }\n",
              "    30% {\n",
              "      border-color: transparent;\n",
              "      border-left-color: var(--fill-color);\n",
              "      border-top-color: var(--fill-color);\n",
              "      border-right-color: var(--fill-color);\n",
              "    }\n",
              "    40% {\n",
              "      border-color: transparent;\n",
              "      border-right-color: var(--fill-color);\n",
              "      border-top-color: var(--fill-color);\n",
              "    }\n",
              "    60% {\n",
              "      border-color: transparent;\n",
              "      border-right-color: var(--fill-color);\n",
              "    }\n",
              "    80% {\n",
              "      border-color: transparent;\n",
              "      border-right-color: var(--fill-color);\n",
              "      border-bottom-color: var(--fill-color);\n",
              "    }\n",
              "    90% {\n",
              "      border-color: transparent;\n",
              "      border-bottom-color: var(--fill-color);\n",
              "    }\n",
              "  }\n",
              "</style>\n",
              "\n",
              "  <script>\n",
              "    async function quickchart(key) {\n",
              "      const quickchartButtonEl =\n",
              "        document.querySelector('#' + key + ' button');\n",
              "      quickchartButtonEl.disabled = true;  // To prevent multiple clicks.\n",
              "      quickchartButtonEl.classList.add('colab-df-spinner');\n",
              "      try {\n",
              "        const charts = await google.colab.kernel.invokeFunction(\n",
              "            'suggestCharts', [key], {});\n",
              "      } catch (error) {\n",
              "        console.error('Error during call to suggestCharts:', error);\n",
              "      }\n",
              "      quickchartButtonEl.classList.remove('colab-df-spinner');\n",
              "      quickchartButtonEl.classList.add('colab-df-quickchart-complete');\n",
              "    }\n",
              "    (() => {\n",
              "      let quickchartButtonEl =\n",
              "        document.querySelector('#df-89dad093-96d8-4322-986c-c1cd629ab798 button');\n",
              "      quickchartButtonEl.style.display =\n",
              "        google.colab.kernel.accessAllowed ? 'block' : 'none';\n",
              "    })();\n",
              "  </script>\n",
              "</div>\n",
              "    </div>\n",
              "  </div>\n"
            ]
          },
          "metadata": {},
          "execution_count": 10
        }
      ]
    },
    {
      "cell_type": "code",
      "source": [
        "#Find how many records this data frame has;\n",
        "num_records = len(df)\n",
        "print(\"Number of records:\", num_records)"
      ],
      "metadata": {
        "colab": {
          "base_uri": "https://localhost:8080/"
        },
        "id": "XYluLR2N1WPJ",
        "outputId": "fe87f371-65eb-4636-d86a-04b1c8b51da1"
      },
      "execution_count": null,
      "outputs": [
        {
          "output_type": "stream",
          "name": "stdout",
          "text": [
            "Number of records: 1386\n"
          ]
        }
      ]
    },
    {
      "cell_type": "code",
      "source": [
        "#How many elements are there?\n",
        "num_elements = df.size\n",
        "print(\"Number of elements:\", num_elements)"
      ],
      "metadata": {
        "colab": {
          "base_uri": "https://localhost:8080/"
        },
        "id": "C3R4VXNz2J8i",
        "outputId": "c7bcf586-feef-4b07-c747-f62b015235ca"
      },
      "execution_count": null,
      "outputs": [
        {
          "output_type": "stream",
          "name": "stdout",
          "text": [
            "Number of elements: 16632\n"
          ]
        }
      ]
    },
    {
      "cell_type": "code",
      "source": [
        "#What are the column names?\n",
        "column_names = df.columns.tolist()\n",
        "print(\"Column names:\", column_names)"
      ],
      "metadata": {
        "colab": {
          "base_uri": "https://localhost:8080/"
        },
        "id": "v9fsGlkY2OB9",
        "outputId": "80586c31-5856-49c4-f8bd-33873e213503"
      },
      "execution_count": null,
      "outputs": [
        {
          "output_type": "stream",
          "name": "stdout",
          "text": [
            "Column names: ['Date', 'Region', 'Store', 'Units Sold', 'Average Retail Price', 'Sales Rep', 'Endcap', 'Demo', 'Demo1-3', 'Demo4-5', 'Natural', 'Fitness']\n"
          ]
        }
      ]
    },
    {
      "cell_type": "code",
      "source": [
        "#What types of columns do we have in this data frame?\n",
        "column_types = df.dtypes\n",
        "print(\"Column types:\")\n",
        "print(column_types)"
      ],
      "metadata": {
        "id": "qm0CIyXL2Q_l",
        "colab": {
          "base_uri": "https://localhost:8080/"
        },
        "outputId": "78c6c372-e0f2-41ca-f965-3de99c9b24cf"
      },
      "execution_count": null,
      "outputs": [
        {
          "output_type": "stream",
          "name": "stdout",
          "text": [
            "Column types:\n",
            "Date                    datetime64[ns]\n",
            "Region                          object\n",
            "Store                           object\n",
            "Units Sold                     float64\n",
            "Average Retail Price           float64\n",
            "Sales Rep                        int64\n",
            "Endcap                           int64\n",
            "Demo                             int64\n",
            "Demo1-3                          int64\n",
            "Demo4-5                          int64\n",
            "Natural                          int64\n",
            "Fitness                          int64\n",
            "dtype: object\n"
          ]
        }
      ]
    },
    {
      "cell_type": "code",
      "source": [
        "#Give the summary for the numeric columns in the dataset\n",
        "numeric_summary = df.describe()\n",
        "print(\"Summary for numeric columns:\")\n",
        "print(numeric_summary)"
      ],
      "metadata": {
        "colab": {
          "base_uri": "https://localhost:8080/"
        },
        "id": "Y1WwIkFM_x2K",
        "outputId": "fd6c42f0-4b00-40ce-fe67-31800bc16d55"
      },
      "execution_count": null,
      "outputs": [
        {
          "output_type": "stream",
          "name": "stdout",
          "text": [
            "Summary for numeric columns:\n",
            "        Units Sold  Average Retail Price    Sales Rep       Endcap  \\\n",
            "count  1386.000000           1386.000000  1386.000000  1386.000000   \n",
            "mean    253.820718              4.107093     0.549784     0.038240   \n",
            "std     110.998731              0.463828     0.497695     0.191843   \n",
            "min      47.559852              2.889286     0.000000     0.000000   \n",
            "25%     189.995471              3.775714     0.000000     0.000000   \n",
            "50%     236.735266              4.096667     1.000000     0.000000   \n",
            "75%     295.804391              4.425067     1.000000     0.000000   \n",
            "max    1041.200256              6.251538     1.000000     1.000000   \n",
            "\n",
            "              Demo      Demo1-3      Demo4-5      Natural      Fitness  \n",
            "count  1386.000000  1386.000000  1386.000000  1386.000000  1386.000000  \n",
            "mean      0.058442     0.156566     0.075758     1.448773     2.476190  \n",
            "std       0.234661     0.363522     0.264705     0.975092     1.592789  \n",
            "min       0.000000     0.000000     0.000000     0.000000     0.000000  \n",
            "25%       0.000000     0.000000     0.000000     1.000000     1.000000  \n",
            "50%       0.000000     0.000000     0.000000     1.000000     2.000000  \n",
            "75%       0.000000     0.000000     0.000000     2.000000     4.000000  \n",
            "max       1.000000     1.000000     1.000000     4.000000     5.000000  \n"
          ]
        }
      ]
    },
    {
      "cell_type": "code",
      "source": [
        "#Calculate standard deviation for all numeric columns;\n",
        "std_deviation = df.std()\n",
        "print(\"Standard deviation for numeric columns:\")\n",
        "print(std_deviation)"
      ],
      "metadata": {
        "colab": {
          "base_uri": "https://localhost:8080/"
        },
        "id": "1VJ3u9ES_2q6",
        "outputId": "a0330f11-3f18-4b8d-9de8-6223a1cb22cc"
      },
      "execution_count": null,
      "outputs": [
        {
          "output_type": "stream",
          "name": "stdout",
          "text": [
            "Standard deviation for numeric columns:\n",
            "Date                    22 days 03:27:15.853934319\n",
            "Units Sold                              110.998731\n",
            "Average Retail Price                      0.463828\n",
            "Sales Rep                                 0.497695\n",
            "Endcap                                    0.191843\n",
            "Demo                                      0.234661\n",
            "Demo1-3                                   0.363522\n",
            "Demo4-5                                   0.264705\n",
            "Natural                                   0.975092\n",
            "Fitness                                   1.592789\n",
            "dtype: object\n"
          ]
        },
        {
          "output_type": "stream",
          "name": "stderr",
          "text": [
            "<ipython-input-16-9f8b9286db79>:2: FutureWarning: The default value of numeric_only in DataFrame.std is deprecated. In a future version, it will default to False. In addition, specifying 'numeric_only=None' is deprecated. Select only valid columns or specify the value of numeric_only to silence this warning.\n",
            "  std_deviation = df.std()\n"
          ]
        }
      ]
    },
    {
      "cell_type": "code",
      "source": [
        "#What are the mean values of the first 50 records in the dataset?\n",
        "#Hint:use head() method to subset the first 50 records and then calculate the mean\n",
        "mean_first_50_records = df.head(50).mean()\n",
        "print(\"Mean values of the first 50 records:\")\n",
        "print(mean_first_50_records)"
      ],
      "metadata": {
        "colab": {
          "base_uri": "https://localhost:8080/"
        },
        "id": "kvC2HlN8_5xs",
        "outputId": "f6665307-8380-4e57-a8a8-f3803cb4dab4"
      },
      "execution_count": null,
      "outputs": [
        {
          "output_type": "stream",
          "name": "stdout",
          "text": [
            "Mean values of the first 50 records:\n",
            "Units Sold              186.280727\n",
            "Average Retail Price      4.128036\n",
            "Sales Rep                 0.000000\n",
            "Endcap                    0.100000\n",
            "Demo                      0.000000\n",
            "Demo1-3                   0.000000\n",
            "Demo4-5                   0.040000\n",
            "Natural                   1.300000\n",
            "Fitness                   1.560000\n",
            "dtype: float64\n"
          ]
        },
        {
          "output_type": "stream",
          "name": "stderr",
          "text": [
            "<ipython-input-17-fc1334b5fe8b>:3: FutureWarning: DataFrame.mean and DataFrame.median with numeric_only=None will include datetime64 and datetime64tz columns in a future version.\n",
            "  mean_first_50_records = df.head(50).mean()\n",
            "<ipython-input-17-fc1334b5fe8b>:3: FutureWarning: The default value of numeric_only in DataFrame.mean is deprecated. In a future version, it will default to False. In addition, specifying 'numeric_only=None' is deprecated. Select only valid columns or specify the value of numeric_only to silence this warning.\n",
            "  mean_first_50_records = df.head(50).mean()\n"
          ]
        }
      ]
    }
  ]
}