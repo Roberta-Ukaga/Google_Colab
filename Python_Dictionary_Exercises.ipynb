{
  "cells": [
    {
      "cell_type": "markdown",
      "metadata": {
        "id": "view-in-github",
        "colab_type": "text"
      },
      "source": [
        "<a href=\"https://colab.research.google.com/github/Roberta-Ukaga/Google_Colab_Dump/blob/main/Python_Dictionary_Exercises.ipynb\" target=\"_parent\"><img src=\"https://colab.research.google.com/assets/colab-badge.svg\" alt=\"Open In Colab\"/></a>"
      ]
    },
    {
      "cell_type": "markdown",
      "metadata": {
        "id": "sVOFSI7JpHwi"
      },
      "source": [
        "# Python Dictionary Exercises"
      ]
    },
    {
      "cell_type": "code",
      "execution_count": null,
      "metadata": {
        "id": "tpVYXiTQpHwt",
        "colab": {
          "base_uri": "https://localhost:8080/"
        },
        "outputId": "245fd04c-4762-464d-c858-1e710db50761"
      },
      "outputs": [
        {
          "output_type": "execute_result",
          "data": {
            "text/plain": [
              "{'A': ['Adanma', 'Akanksha', 'Aminat', 'Ankur', 'Anton', 'Athira Lakshmi'],\n",
              " 'C': ['Chun Ming'],\n",
              " 'D': ['Deepthy'],\n",
              " 'E': ['Ellie', 'Eugene'],\n",
              " 'G': ['Gaurav', 'Gurkirat'],\n",
              " 'J': ['Janki', 'Jaykumar', 'Jeremiah', 'Jue'],\n",
              " 'K': ['Kaushalkumar Jayeshkumar', 'Kiruthika', 'Krupali'],\n",
              " 'L': ['Lidya'],\n",
              " 'M': ['Malisha Rahman', 'Maurice Anne', 'Mohammed'],\n",
              " 'N': ['Nada', 'Nam', 'Nikhil'],\n",
              " 'P': ['Pushpinder'],\n",
              " 'R': ['Rajanandhini', 'Ramish', 'Rutvi'],\n",
              " 'S': ['Safwan',\n",
              "  'Sai Praneeth',\n",
              "  'Sarath',\n",
              "  'Sarvesh',\n",
              "  'Sevim',\n",
              "  'Shamreen Fathima',\n",
              "  'Sumanjali',\n",
              "  'Spencer'],\n",
              " 'T': ['Tsz Wa', 'Tyrone'],\n",
              " 'X': ['Xiao'],\n",
              " 'Z': ['Zelalem']}"
            ]
          },
          "metadata": {},
          "execution_count": 1
        }
      ],
      "source": [
        "#Q1 Create a dictionary for all participants in the JDA program.\n",
        "#Keys should be the first letter in their names,\n",
        "#Values should be their names.\n",
        "#[Hint] dic={\"l\":(Leul),\"J\":(Jerry,Jainam)........}\n",
        "dict = {\n",
        "    \"A\": [\"Adanma\", \"Akanksha\", \"Aminat\", \"Ankur\", \"Anton\", \"Athira Lakshmi\"],\n",
        "    \"C\": [\"Chun Ming\"],\n",
        "    \"D\": [\"Deepthy\"],\n",
        "    \"E\": [\"Ellie\", \"Eugene\"],\n",
        "    \"G\": [\"Gaurav\", \"Gurkirat\"],\n",
        "    \"J\": [\"Janki\", \"Jaykumar\", \"Jeremiah\", \"Jue\"],\n",
        "    \"K\": [\"Kaushalkumar Jayeshkumar\", \"Kiruthika\", \"Krupali\"],\n",
        "    \"L\": [\"Lidya\"],\n",
        "    \"M\": [\"Malisha Rahman\", \"Maurice Anne\", \"Mohammed\"],\n",
        "    \"N\": [\"Nada\", \"Nam\", \"Nikhil\"],\n",
        "    \"P\": [\"Pushpinder\"],\n",
        "    \"R\": [\"Rajanandhini\", \"Ramish\", \"Rutvi\"],\n",
        "    \"S\": [\"Safwan\", \"Sai Praneeth\", \"Sarath\", \"Sarvesh\", \"Sevim\", \"Shamreen Fathima\", \"Sumanjali\", \"Spencer\"],\n",
        "    \"T\": [\"Tsz Wa\", \"Tyrone\"],\n",
        "    \"X\": [\"Xiao\"],\n",
        "    \"Z\": [\"Zelalem\"]\n",
        "}\n",
        "dict"
      ]
    },
    {
      "cell_type": "code",
      "execution_count": null,
      "metadata": {
        "id": "Jrf0JIyqpHwu",
        "colab": {
          "base_uri": "https://localhost:8080/"
        },
        "outputId": "e83dd540-b9e9-4a11-9747-f8879c502496"
      },
      "outputs": [
        {
          "output_type": "execute_result",
          "data": {
            "text/plain": [
              "dict_keys(['A', 'C', 'D', 'E', 'G', 'J', 'K', 'L', 'M', 'N', 'P', 'R', 'S', 'T', 'X', 'Z'])"
            ]
          },
          "metadata": {},
          "execution_count": 2
        }
      ],
      "source": [
        "#Q2 What are the keys of your dictionary\n",
        "dict.keys()"
      ]
    },
    {
      "cell_type": "code",
      "execution_count": null,
      "metadata": {
        "id": "CYUr_QbBpHwu",
        "colab": {
          "base_uri": "https://localhost:8080/"
        },
        "outputId": "b0acb59c-80fc-408a-ff21-4e6927ac8b2c"
      },
      "outputs": [
        {
          "output_type": "execute_result",
          "data": {
            "text/plain": [
              "dict_values([['Adanma', 'Akanksha', 'Aminat', 'Ankur', 'Anton', 'Athira Lakshmi'], ['Chun Ming'], ['Deepthy'], ['Ellie', 'Eugene'], ['Gaurav', 'Gurkirat'], ['Janki', 'Jaykumar', 'Jeremiah', 'Jue'], ['Kaushalkumar Jayeshkumar', 'Kiruthika', 'Krupali'], ['Lidya'], ['Malisha Rahman', 'Maurice Anne', 'Mohammed'], ['Nada', 'Nam', 'Nikhil'], ['Pushpinder'], ['Rajanandhini', 'Ramish', 'Rutvi'], ['Safwan', 'Sai Praneeth', 'Sarath', 'Sarvesh', 'Sevim', 'Shamreen Fathima', 'Sumanjali', 'Spencer'], ['Tsz Wa', 'Tyrone'], ['Xiao'], ['Zelalem']])"
            ]
          },
          "metadata": {},
          "execution_count": 3
        }
      ],
      "source": [
        "#Q3 What are the values of your dictionary\n",
        "dict.values()"
      ]
    },
    {
      "cell_type": "code",
      "execution_count": null,
      "metadata": {
        "id": "98wsAuZepHwu",
        "colab": {
          "base_uri": "https://localhost:8080/"
        },
        "outputId": "d066920d-46b8-41ef-8098-56e3019adf14"
      },
      "outputs": [
        {
          "output_type": "stream",
          "name": "stdout",
          "text": [
            "['Adanma', 'Akanksha', 'Aminat', 'Ankur', 'Anton', 'Athira Lakshmi']\n",
            "['Chun Ming']\n",
            "['Janki', 'Jaykumar', 'Jeremiah', 'Jue']\n",
            "['Malisha Rahman', 'Maurice Anne', 'Mohammed']\n"
          ]
        }
      ],
      "source": [
        "#Q4 Find participant's names that start with J,I,M,C,A  (use of startswith() function , and search in d.items())\n",
        "letters = ['J','I','M','C','A']\n",
        "for key, val in dict.items():\n",
        "  for letter in letters:\n",
        "    if key.startswith(letter):\n",
        "      print(val)"
      ]
    },
    {
      "cell_type": "code",
      "source": [
        "#Q4 Option 2\n",
        "for key, val in dict.items():\n",
        "  if key.startswith('J') or key.startswith('I') or key.startswith('M') or key.startswith('C') or key.startswith('A'):\n",
        "    print(val)"
      ],
      "metadata": {
        "id": "znWLtw1q7JxB",
        "outputId": "1aadf196-3c96-4f60-df05-c765eafe0eb5",
        "colab": {
          "base_uri": "https://localhost:8080/"
        }
      },
      "execution_count": null,
      "outputs": [
        {
          "output_type": "stream",
          "name": "stdout",
          "text": [
            "['Adanma', 'Akanksha', 'Aminat', 'Ankur', 'Anton', 'Athira Lakshmi']\n",
            "['Chun Ming']\n",
            "['Janki', 'Jaykumar', 'Jeremiah', 'Jue']\n",
            "['Malisha Rahman', 'Maurice Anne', 'Mohammed']\n"
          ]
        }
      ]
    },
    {
      "cell_type": "code",
      "execution_count": null,
      "metadata": {
        "id": "7fKI4NExpHwu",
        "colab": {
          "base_uri": "https://localhost:8080/"
        },
        "outputId": "a016ff9c-5082-4499-b0ce-703c638b2362"
      },
      "outputs": [
        {
          "output_type": "stream",
          "name": "stdout",
          "text": [
            "{'A': ['Adanma', 'Akanksha', 'Aminat', 'Ankur', 'Anton', 'Athira Lakshmi'], 'C': ['Chun Ming'], 'D': ['Deepthy'], 'E': ['Ellie', 'Eugene'], 'G': ['Gaurav', 'Gurkirat'], 'J': ['Janki', 'Jaykumar', 'Jeremiah', 'Jue'], 'K': ['Kaushalkumar Jayeshkumar', 'Kiruthika', 'Krupali'], 'L': ['Lidya'], 'M': ['Malisha Rahman', 'Maurice Anne', 'Mohammed'], 'N': ['Nada', 'Nam', 'Nikhil'], 'P': ['Pushpinder'], 'R': ['Rajanandhini', 'Ramish', 'Rutvi'], 'S': ['Safwan', 'Sai Praneeth', 'Sarath', 'Sarvesh', 'Sevim', 'Shamreen Fathima', 'Sumanjali', 'Spencer'], 'T': ['Tsz Wa', 'Tyrone'], 'X': ['Xiao'], 'Z': ['Zelalem'], ('K', 'Pd'): ['Kristina']}\n"
          ]
        }
      ],
      "source": [
        "#Q5 Add the following to your dictionary\n",
        "# Key<(K,PD)>, Value<(Kristina)>\n",
        "dict[(\"K\",\"Pd\")]=[\"Kristina\"]\n",
        "print(dict)"
      ]
    },
    {
      "cell_type": "code",
      "execution_count": null,
      "metadata": {
        "id": "3DZDVTGepHwu",
        "colab": {
          "base_uri": "https://localhost:8080/"
        },
        "outputId": "cadfab2a-e341-4419-9881-deba679fef69"
      },
      "outputs": [
        {
          "output_type": "execute_result",
          "data": {
            "text/plain": [
              "17"
            ]
          },
          "metadata": {},
          "execution_count": 8
        }
      ],
      "source": [
        "#Q6 Find the length of your dictionary\n",
        "len(dict)"
      ]
    },
    {
      "cell_type": "code",
      "execution_count": null,
      "metadata": {
        "id": "eT6uh6oCpHwv",
        "colab": {
          "base_uri": "https://localhost:8080/"
        },
        "outputId": "bec942cd-3dd7-4126-e98f-7d1e3959bdff"
      },
      "outputs": [
        {
          "output_type": "stream",
          "name": "stdout",
          "text": [
            "{'A': ['Adanma', 'Akanksha', 'Aminat', 'Ankur', 'Anton', 'Athira Lakshmi'], 'C': ['Chun Ming'], 'D': ['Deepthy'], 'E': ['Ellie', 'Eugene'], 'G': ['Gaurav', 'Gurkirat'], 'J': ['Janki', 'Jaykumar', 'Jeremiah', 'Jue'], 'K': ['Kaushalkumar Jayeshkumar', 'Kiruthika', 'Krupali'], 'L': ['Lidya'], 'M': ['Malisha Rahman', 'Maurice Anne', 'Mohammed'], 'N': ['Nada', 'Nam', 'Nikhil'], 'P': ['Pushpinder'], 'R': ['Rajanandhini', 'Ramish', 'Rutvi'], 'S': ['Safwan', 'Sai Praneeth', 'Sarath', 'Sarvesh', 'Sevim', 'Shamreen Fathima', 'Sumanjali', 'Spencer'], 'T': ['Tsz Wa', 'Tyrone'], 'X': ['Xiao'], 'Z': ['Zelalem'], ('K', 'Pd'): ['Kristina'], ('S', 'Instructor'): ['Sarah']}\n"
          ]
        }
      ],
      "source": [
        "#Q7 Add the following to your dictionary\n",
        "# Key<(S,Instructor)>, Value<(Sarah)>\n",
        "dict[(\"S\",\"Instructor\")]=[\"Sarah\"]\n",
        "print(dict)"
      ]
    },
    {
      "cell_type": "code",
      "execution_count": null,
      "metadata": {
        "id": "2ybFG6PPpHwv",
        "colab": {
          "base_uri": "https://localhost:8080/"
        },
        "outputId": "84460e4f-a97e-46f1-db2e-fc2cb6a6799d"
      },
      "outputs": [
        {
          "output_type": "execute_result",
          "data": {
            "text/plain": [
              "18"
            ]
          },
          "metadata": {},
          "execution_count": 13
        }
      ],
      "source": [
        "#Q8 Find the length of your dictionary\n",
        "len(dict)"
      ]
    },
    {
      "cell_type": "code",
      "execution_count": null,
      "metadata": {
        "id": "minqx6tVpHwv",
        "colab": {
          "base_uri": "https://localhost:8080/"
        },
        "outputId": "c10665f2-f4ad-4817-a905-e43d76c3c750"
      },
      "outputs": [
        {
          "output_type": "execute_result",
          "data": {
            "text/plain": [
              "{'A': ['Adanma', 'Akanksha', 'Aminat', 'Ankur', 'Anton', 'Athira Lakshmi'],\n",
              " 'C': ['Chun Ming'],\n",
              " 'D': ['Deepthy'],\n",
              " 'E': ['Ellie', 'Eugene'],\n",
              " 'G': ['Gaurav', 'Gurkirat'],\n",
              " 'K': ['Kaushalkumar Jayeshkumar', 'Kiruthika', 'Krupali'],\n",
              " 'L': ['Lidya'],\n",
              " 'M': ['Malisha Rahman', 'Maurice Anne', 'Mohammed'],\n",
              " 'N': ['Nada', 'Nam', 'Nikhil'],\n",
              " 'P': ['Pushpinder'],\n",
              " 'R': ['Rajanandhini', 'Ramish', 'Rutvi'],\n",
              " 'S': ['Safwan',\n",
              "  'Sai Praneeth',\n",
              "  'Sarath',\n",
              "  'Sarvesh',\n",
              "  'Sevim',\n",
              "  'Shamreen Fathima',\n",
              "  'Sumanjali',\n",
              "  'Spencer'],\n",
              " 'T': ['Tsz Wa', 'Tyrone'],\n",
              " 'X': ['Xiao'],\n",
              " 'Z': ['Zelalem'],\n",
              " ('K', 'Pd'): ['Kristina']}"
            ]
          },
          "metadata": {},
          "execution_count": 14
        }
      ],
      "source": [
        "#Q7 Delete the following keys from your dictionary\n",
        "#Key<(S,Instructor)>\n",
        "#Key<J>\n",
        "if ('S','Instructor') in dict:\n",
        "  del dict[('S','Instructor')]\n",
        "if 'J' in dict:\n",
        "  del dict['J']\n",
        "dict"
      ]
    },
    {
      "cell_type": "code",
      "execution_count": null,
      "metadata": {
        "id": "O-_6aN8hpHwv",
        "colab": {
          "base_uri": "https://localhost:8080/"
        },
        "outputId": "e38a337d-a740-40f3-b833-eb0461932f54"
      },
      "outputs": [
        {
          "output_type": "execute_result",
          "data": {
            "text/plain": [
              "16"
            ]
          },
          "metadata": {},
          "execution_count": 15
        }
      ],
      "source": [
        "#Q9 Find the length of your dictionary\n",
        "len(dict)"
      ]
    },
    {
      "cell_type": "code",
      "execution_count": null,
      "metadata": {
        "id": "5lXIWEu_pHwv"
      },
      "outputs": [],
      "source": [
        "#Q10 Create a new dictionary called synonyms_dic\n",
        "synonyms_dic = {}"
      ]
    },
    {
      "cell_type": "code",
      "execution_count": null,
      "metadata": {
        "id": "Q6XnfGGdpHwv",
        "colab": {
          "base_uri": "https://localhost:8080/"
        },
        "outputId": "bd6f8e41-9296-4001-eafd-a29f940d422e"
      },
      "outputs": [
        {
          "output_type": "stream",
          "name": "stdout",
          "text": [
            "{'Bad': ('Poor', 'Terrible', 'Awful', 'Negative', 'Unpleasant'), 'Good': ('Positive', 'Excellent', 'Great', 'Fine', 'Superb', 'Outstanding'), 'Awesome': ('Amazing', 'Incredible', 'Fantastic', 'Impressive', 'Spectacular'), 'Cold': ('Chilly', 'Freezing', 'Frigid', 'Icy', 'Cool'), 'Easy': ('Simple', 'Effortless', 'Straightforward', 'Painless', 'Uncomplicated'), 'Hard': ('Difficult', 'Challenging', 'Tough', 'Arduous', 'Complex'), 'Big': ('Large', 'Huge', 'Enormous', 'Massive', 'Gigantic'), 'Small': ('Little', 'Tiny', 'Miniature', 'Petite', 'Compact')}\n"
          ]
        }
      ],
      "source": [
        "#Q11 Add the synonyms of the following words to your dictionary\n",
        "#Bad, Good, Awesome, Cold, Easy, Hard, Big, Small\n",
        "synonyms_dic['Bad'] = ('Poor', 'Terrible', 'Awful', 'Negative', 'Unpleasant')\n",
        "synonyms_dic['Good'] = ('Positive','Excellent', 'Great', 'Fine', 'Superb', 'Outstanding')\n",
        "synonyms_dic['Awesome'] = ('Amazing', 'Incredible', 'Fantastic', 'Impressive', 'Spectacular')\n",
        "synonyms_dic['Cold'] = ('Chilly', 'Freezing', 'Frigid', 'Icy', 'Cool')\n",
        "synonyms_dic['Easy'] = ('Simple', 'Effortless', 'Straightforward', 'Painless', 'Uncomplicated')\n",
        "synonyms_dic['Hard'] = ('Difficult', 'Challenging', 'Tough', 'Arduous', 'Complex')\n",
        "synonyms_dic['Big'] = ('Large', 'Huge', 'Enormous', 'Massive', 'Gigantic')\n",
        "synonyms_dic['Small'] = ('Little', 'Tiny', 'Miniature', 'Petite', 'Compact')\n",
        "print(synonyms_dic)"
      ]
    },
    {
      "cell_type": "code",
      "execution_count": null,
      "metadata": {
        "id": "8Rcqz8eSpHww",
        "colab": {
          "base_uri": "https://localhost:8080/"
        },
        "outputId": "3db58be3-e134-41a1-d1e2-8ce675052a26"
      },
      "outputs": [
        {
          "output_type": "stream",
          "name": "stdout",
          "text": [
            "('Amazing', 'Incredible', 'Fantastic', 'Impressive', 'Spectacular')\n",
            "('Simple', 'Effortless', 'Straightforward', 'Painless', 'Uncomplicated')\n",
            "('Little', 'Tiny', 'Miniature', 'Petite', 'Compact')\n"
          ]
        }
      ],
      "source": [
        "#Q12 Use your dictionary to find the synonym of the following words\n",
        "# Awesome, Easy, Small, Old\n",
        "words = ['Awesome','Easy','Small','Old']\n",
        "for key, val in synonyms_dic.items():\n",
        "  for word in words:\n",
        "    if key.startswith(word):\n",
        "      print(val)"
      ]
    },
    {
      "cell_type": "code",
      "execution_count": null,
      "metadata": {
        "id": "J2af_x7NpHww"
      },
      "outputs": [],
      "source": [
        "#Q13 Delete everything from synonyms_dic\n",
        "synonyms_dic.clear()"
      ]
    },
    {
      "cell_type": "code",
      "execution_count": null,
      "metadata": {
        "id": "swUpxaHzpHww",
        "colab": {
          "base_uri": "https://localhost:8080/"
        },
        "outputId": "cf1e96f3-ac8e-49b7-ddf3-2ba611031c52"
      },
      "outputs": [
        {
          "output_type": "execute_result",
          "data": {
            "text/plain": [
              "{}"
            ]
          },
          "metadata": {},
          "execution_count": 29
        }
      ],
      "source": [
        "#Q14 Print all values in synonyms_dic\n",
        "synonyms_dic"
      ]
    },
    {
      "cell_type": "code",
      "execution_count": null,
      "metadata": {
        "id": "EHVRmM0ypHww",
        "colab": {
          "base_uri": "https://localhost:8080/"
        },
        "outputId": "caaeb1c1-1f5b-41bc-f3c2-826429c8c507"
      },
      "outputs": [
        {
          "output_type": "execute_result",
          "data": {
            "text/plain": [
              "{'True': 1, 'False': 0}"
            ]
          },
          "metadata": {},
          "execution_count": 1
        }
      ],
      "source": [
        "#Q15 Convert the below two lists into dictionary\n",
        "Keys=[\"True\",\"False\"]\n",
        "Values=[1,0]\n",
        "key_value ={}\n",
        "for i in range(len(Keys)):\n",
        "  key_value[Keys[i]] = Values[i]\n",
        "key_value"
      ]
    },
    {
      "cell_type": "code",
      "execution_count": null,
      "metadata": {
        "id": "A3485jtupHww",
        "colab": {
          "base_uri": "https://localhost:8080/"
        },
        "outputId": "83a883d7-dfe7-40d6-edcd-d2463c0a3a9d"
      },
      "outputs": [
        {
          "output_type": "execute_result",
          "data": {
            "text/plain": [
              "4480"
            ]
          },
          "metadata": {},
          "execution_count": 2
        }
      ],
      "source": [
        "#Q16 Sum all the values in the following dictionary\n",
        "income={'Jan':1000,'Feb':1500,'Mar':980,'April':1000}\n",
        "sum(income.values())"
      ]
    },
    {
      "cell_type": "code",
      "execution_count": null,
      "metadata": {
        "id": "vU8C859SpHww",
        "colab": {
          "base_uri": "https://localhost:8080/",
          "height": 35
        },
        "outputId": "21c62ef1-9f4e-415a-fc58-5acb07d77325"
      },
      "outputs": [
        {
          "output_type": "execute_result",
          "data": {
            "text/plain": [
              "'I am hungry , I want to eat'"
            ],
            "application/vnd.google.colaboratory.intrinsic+json": {
              "type": "string"
            }
          },
          "metadata": {},
          "execution_count": 4
        }
      ],
      "source": [
        "#Q17 Create the following dictionary\n",
        "#encryption=\n",
        "#{10:\"hungry\",101:\"am\",110:\"I\",1011:\",\",1101:\"eat\",1001:\"want\",111:\"to\"}\n",
        "# What should be the decryption of the following code\n",
        "#\"110 101 10 1011 110 1001 111 1101\"\n",
        "encryption={10:\"hungry\",101:\"am\",110:\"I\",1011:\",\",1101:\"eat\",1001:\"want\",111:\"to\"}\n",
        "code = \"110 101 10 1011 110 1001 111 1101\"\n",
        "code_tokens = code.split()\n",
        "decryption = []\n",
        "for token in code_tokens:\n",
        "  decryption.append(encryption[int(token)])\n",
        "' '.join(decryption)"
      ]
    }
  ],
  "metadata": {
    "kernelspec": {
      "display_name": "Python 3 (ipykernel)",
      "language": "python",
      "name": "python3"
    },
    "language_info": {
      "codemirror_mode": {
        "name": "ipython",
        "version": 3
      },
      "file_extension": ".py",
      "mimetype": "text/x-python",
      "name": "python",
      "nbconvert_exporter": "python",
      "pygments_lexer": "ipython3",
      "version": "3.9.12"
    },
    "colab": {
      "provenance": [],
      "include_colab_link": true
    }
  },
  "nbformat": 4,
  "nbformat_minor": 0
}