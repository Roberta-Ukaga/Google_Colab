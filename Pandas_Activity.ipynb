{
  "nbformat": 4,
  "nbformat_minor": 0,
  "metadata": {
    "colab": {
      "provenance": [],
      "authorship_tag": "ABX9TyMJMAfCT2V3cJrvPFUAlwXE",
      "include_colab_link": true
    },
    "kernelspec": {
      "name": "python3",
      "display_name": "Python 3"
    },
    "language_info": {
      "name": "python"
    }
  },
  "cells": [
    {
      "cell_type": "markdown",
      "metadata": {
        "id": "view-in-github",
        "colab_type": "text"
      },
      "source": [
        "<a href=\"https://colab.research.google.com/github/Roberta-Ukaga/Google_Colab_Dump/blob/main/Pandas_Activity.ipynb\" target=\"_parent\"><img src=\"https://colab.research.google.com/assets/colab-badge.svg\" alt=\"Open In Colab\"/></a>"
      ]
    },
    {
      "cell_type": "code",
      "execution_count": null,
      "metadata": {
        "id": "13pItbkpEopj"
      },
      "outputs": [],
      "source": [
        "import pandas as pd"
      ]
    },
    {
      "cell_type": "code",
      "source": [
        "# Creating the DataFrame\n",
        "d = {'Mouse': [150, 200, 300, 400],\n",
        "     'Keyboard': [180, 200, 190, 300],\n",
        "     'Scanner': [200, 280, 330, 450]}\n",
        "\n",
        "df = pd.DataFrame(data=d, index=['Jan', 'Feb', 'March', 'April'])"
      ],
      "metadata": {
        "id": "reEAPGIVFg_m"
      },
      "execution_count": null,
      "outputs": []
    },
    {
      "cell_type": "code",
      "source": [
        "# A. Access data of Mouse and Scanner columns\n",
        "mouse_data = df['Mouse']\n",
        "scanner_data = df['Scanner']\n",
        "print(\"Mouse Data:\")\n",
        "print(mouse_data)\n",
        "print(\"Scanner Data:\")\n",
        "print(scanner_data)"
      ],
      "metadata": {
        "colab": {
          "base_uri": "https://localhost:8080/"
        },
        "id": "r3wG75RVF_jb",
        "outputId": "ffa8a31f-f98e-4035-f04f-edb1ee1b834c"
      },
      "execution_count": null,
      "outputs": [
        {
          "output_type": "stream",
          "name": "stdout",
          "text": [
            "Mouse Data:\n",
            "Jan      150\n",
            "Feb      200\n",
            "March    300\n",
            "April    400\n",
            "Name: Mouse, dtype: int64\n",
            "Scanner Data:\n",
            "Jan      200\n",
            "Feb      280\n",
            "March    330\n",
            "April    450\n",
            "Name: Scanner, dtype: int64\n"
          ]
        }
      ]
    },
    {
      "cell_type": "code",
      "source": [
        "# B. Access data of the Keyboard column using dot notation and column name\n",
        "keyboard_data_dot_notation = df.Keyboard\n",
        "print(\"Keyboard Data using Dot Notation:\")\n",
        "print(keyboard_data_dot_notation)"
      ],
      "metadata": {
        "id": "RNvx6vHlGCg-",
        "outputId": "8dc48cb3-6e67-48ee-ff8f-78fea69e6b47",
        "colab": {
          "base_uri": "https://localhost:8080/"
        }
      },
      "execution_count": null,
      "outputs": [
        {
          "output_type": "stream",
          "name": "stdout",
          "text": [
            "Keyboard Data using Dot Notation:\n",
            "Jan      180\n",
            "Feb      200\n",
            "March    190\n",
            "April    300\n",
            "Name: Keyboard, dtype: int64\n"
          ]
        }
      ]
    },
    {
      "cell_type": "code",
      "source": [
        "# C. Access data of scanners using loc[]\n",
        "scanner_data_loc = df.loc[:, 'Scanner']\n",
        "print(\"Scanner Data using loc[]:\")\n",
        "print(scanner_data_loc)"
      ],
      "metadata": {
        "id": "gN0bHYDgGGdl",
        "outputId": "167ce449-ece6-4f3d-8587-cc41590fddb5",
        "colab": {
          "base_uri": "https://localhost:8080/"
        }
      },
      "execution_count": null,
      "outputs": [
        {
          "output_type": "stream",
          "name": "stdout",
          "text": [
            "Scanner Data using loc[]:\n",
            "Jan      200\n",
            "Feb      280\n",
            "March    330\n",
            "April    450\n",
            "Name: Scanner, dtype: int64\n"
          ]
        }
      ]
    },
    {
      "cell_type": "code",
      "source": [
        "# D. Access data of all columns where mouse data is more than 200\n",
        "mouse_greater_than_200 = df[df['Mouse'] > 200]\n",
        "print(\"Data where Mouse data is more than 200:\")\n",
        "print(mouse_greater_than_200)"
      ],
      "metadata": {
        "id": "jqW_xSxlGKZs",
        "outputId": "bb9bd8bf-7640-47bb-9aa6-2a6820b7fd39",
        "colab": {
          "base_uri": "https://localhost:8080/"
        }
      },
      "execution_count": null,
      "outputs": [
        {
          "output_type": "stream",
          "name": "stdout",
          "text": [
            "Data where Mouse data is more than 200:\n",
            "       Mouse  Keyboard  Scanner\n",
            "March    300       190      330\n",
            "April    400       300      450\n"
          ]
        }
      ]
    },
    {
      "cell_type": "code",
      "source": [
        "# E. Access columns using 0 and 2\n",
        "column_0 = df.iloc[:, 0]  # Using index 0 to access the first column (Mouse)\n",
        "column_2 = df.iloc[:, 2]  # Using index 2 to access the third column (Scanner)\n",
        "print(\"Column 0 (Mouse):\")\n",
        "print(column_0)\n",
        "print(\"Column 2 (Scanner):\")\n",
        "print(column_2)"
      ],
      "metadata": {
        "id": "sY1uJbssGNi2",
        "outputId": "db8a013c-5c2f-4c4f-f21d-5ff17e062c6a",
        "colab": {
          "base_uri": "https://localhost:8080/"
        }
      },
      "execution_count": null,
      "outputs": [
        {
          "output_type": "stream",
          "name": "stdout",
          "text": [
            "Column 0 (Mouse):\n",
            "Jan      150\n",
            "Feb      200\n",
            "March    300\n",
            "April    400\n",
            "Name: Mouse, dtype: int64\n",
            "Column 2 (Scanner):\n",
            "Jan      200\n",
            "Feb      280\n",
            "March    330\n",
            "April    450\n",
            "Name: Scanner, dtype: int64\n"
          ]
        }
      ]
    },
    {
      "cell_type": "code",
      "source": [
        "# F. Access data of rows of Jan and March for Scanner and Keyboard\n",
        "jan_march_scanner_keyboard_data = df.loc[['Jan', 'March'], ['Scanner', 'Keyboard']]\n",
        "print(\"Data of Jan and March for Scanner and Keyboard:\")\n",
        "print(jan_march_scanner_keyboard_data)"
      ],
      "metadata": {
        "id": "d5eie0XjGQkF",
        "outputId": "3a897703-f3e6-4535-c787-c5e884f26b2b",
        "colab": {
          "base_uri": "https://localhost:8080/"
        }
      },
      "execution_count": null,
      "outputs": [
        {
          "output_type": "stream",
          "name": "stdout",
          "text": [
            "Data of Jan and March for Scanner and Keyboard:\n",
            "       Scanner  Keyboard\n",
            "Jan        200       180\n",
            "March      330       190\n"
          ]
        }
      ]
    }
  ]
}